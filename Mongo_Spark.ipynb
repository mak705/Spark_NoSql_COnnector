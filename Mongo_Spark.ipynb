{
 "cells": [
  {
   "cell_type": "code",
   "execution_count": 1,
   "metadata": {},
   "outputs": [],
   "source": [
    "from pyspark.sql import SparkSession\n",
    "from pyspark.sql import functions\n",
    "from pyspark.sql import Row"
   ]
  },
  {
   "cell_type": "code",
   "execution_count": 2,
   "metadata": {},
   "outputs": [],
   "source": [
    "def parseInput(line):\n",
    "    fields = line.split('|')\n",
    "    return Row(user_id = int(fields[0]), age = int(fields[1]), gender = fields[2], occupation = fields[3], zip = fields[4])"
   ]
  },
  {
   "cell_type": "code",
   "execution_count": 3,
   "metadata": {},
   "outputs": [],
   "source": [
    "spark = SparkSession.builder.appName(\"MongoDBIntegration\").getOrCreate()"
   ]
  },
  {
   "cell_type": "code",
   "execution_count": 4,
   "metadata": {},
   "outputs": [],
   "source": [
    "lines = spark.sparkContext.textFile(\"/home/mak/Downloads/hadoop/ml-100k/u.user\")"
   ]
  },
  {
   "cell_type": "code",
   "execution_count": 5,
   "metadata": {},
   "outputs": [],
   "source": [
    "users = lines.map(parseInput)"
   ]
  },
  {
   "cell_type": "code",
   "execution_count": 6,
   "metadata": {},
   "outputs": [],
   "source": [
    "usersDataset = spark.createDataFrame(users)"
   ]
  },
  {
   "cell_type": "code",
   "execution_count": 7,
   "metadata": {},
   "outputs": [],
   "source": [
    "usersDataset.write.format(\"com.mongodb.spark.sql.DefaultSource\").option(\"uri\",\"mongodb://127.0.0.1/movielens.users\").mode('append').save()"
   ]
  },
  {
   "cell_type": "code",
   "execution_count": 8,
   "metadata": {},
   "outputs": [],
   "source": [
    "readUsers = spark.read.format(\"com.mongodb.spark.sql.DefaultSource\").option(\"uri\",\"mongodb://127.0.0.1/movielens.users\").load()"
   ]
  },
  {
   "cell_type": "code",
   "execution_count": 9,
   "metadata": {},
   "outputs": [],
   "source": [
    "readUsers.createOrReplaceTempView(\"users\")"
   ]
  },
  {
   "cell_type": "code",
   "execution_count": 10,
   "metadata": {},
   "outputs": [],
   "source": [
    "sqlDF = spark.sql(\"SELECT * FROM users WHERE age < 20\")"
   ]
  },
  {
   "cell_type": "code",
   "execution_count": 11,
   "metadata": {},
   "outputs": [
    {
     "name": "stdout",
     "output_type": "stream",
     "text": [
      "+--------------------+---+------+-------------+-------+-----+\n",
      "|                 _id|age|gender|   occupation|user_id|  zip|\n",
      "+--------------------+---+------+-------------+-------+-----+\n",
      "|[5bc89fd9c047fd0a...|  7|     M|      student|     30|55436|\n",
      "|[5bc89fd9c047fd0a...| 19|     F|      student|     36|93117|\n",
      "|[5bc89fd9c047fd0a...| 18|     F|      student|     52|55105|\n",
      "|[5bc89fd9c047fd0a...| 16|     M|         none|     57|84010|\n",
      "|[5bc89fd9c047fd0a...| 17|     M|      student|     67|60402|\n",
      "|[5bc89fd9c047fd0a...| 19|     M|      student|     68|22904|\n",
      "|[5bc89fd9c047fd0a...| 15|     M|      student|    101|05146|\n",
      "|[5bc89fd9c047fd0a...| 19|     M|      student|    110|77840|\n",
      "|[5bc89fd9c047fd0a...| 13|     M|        other|    142|48118|\n",
      "|[5bc89fd9c047fd0a...| 15|     M|entertainment|    179|20755|\n",
      "|[5bc89fd9c047fd0a...| 14|     F|      student|    206|53115|\n",
      "|[5bc89fd9c047fd0a...| 19|     M|      student|    221|20685|\n",
      "|[5bc89fd9c047fd0a...| 19|     F|      student|    223|47906|\n",
      "|[5bc89fd9c047fd0a...| 19|     M|      student|    246|28734|\n",
      "|[5bc89fd9c047fd0a...| 17|     M|      student|    257|77005|\n",
      "|[5bc89fd9c047fd0a...| 19|     F|      student|    258|77801|\n",
      "|[5bc89fd9c047fd0a...| 19|     F|      student|    262|78264|\n",
      "|[5bc89fd9c047fd0a...| 18|     F|      student|    270|63119|\n",
      "|[5bc89fd9c047fd0a...| 15|     F|      student|    281|06059|\n",
      "|[5bc89fd9c047fd0a...| 11|     M|         none|    289|94619|\n",
      "+--------------------+---+------+-------------+-------+-----+\n",
      "only showing top 20 rows\n",
      "\n"
     ]
    }
   ],
   "source": [
    "sqlDF.show()"
   ]
  },
  {
   "cell_type": "code",
   "execution_count": 12,
   "metadata": {},
   "outputs": [],
   "source": [
    "spark.stop()"
   ]
  },
  {
   "cell_type": "code",
   "execution_count": null,
   "metadata": {},
   "outputs": [],
   "source": []
  }
 ],
 "metadata": {
  "kernelspec": {
   "display_name": "Python 3",
   "language": "python",
   "name": "python3"
  },
  "language_info": {
   "codemirror_mode": {
    "name": "ipython",
    "version": 3
   },
   "file_extension": ".py",
   "mimetype": "text/x-python",
   "name": "python",
   "nbconvert_exporter": "python",
   "pygments_lexer": "ipython3",
   "version": "3.6.4"
  }
 },
 "nbformat": 4,
 "nbformat_minor": 2
}
